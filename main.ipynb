{
 "cells": [
  {
   "cell_type": "code",
   "execution_count": 1,
   "metadata": {},
   "outputs": [],
   "source": [
    "import pandas as pd"
   ]
  },
  {
   "cell_type": "code",
   "execution_count": null,
   "metadata": {},
   "outputs": [],
   "source": [
    "import tensorflow as tf\n",
    "from tensorflow import keras\n",
    "from keras.models import Sequential"
   ]
  },
  {
   "cell_type": "code",
   "execution_count": 6,
   "metadata": {},
   "outputs": [
    {
     "name": "stdout",
     "output_type": "stream",
     "text": [
      "['AnnualCrop', 'Forest', 'HerbaceousVegetation', 'Highway', 'Industrial', 'Pasture', 'PermanentCrop', 'Residential', 'River', 'SeaLake']\n"
     ]
    }
   ],
   "source": [
    "import os\n",
    "training_dir = 'archive/EuroSAT/'\n",
    "print(os.listdir(training_dir))"
   ]
  },
  {
   "cell_type": "code",
   "execution_count": 10,
   "metadata": {},
   "outputs": [
    {
     "name": "stdout",
     "output_type": "stream",
     "text": [
      "Found 21600 images belonging to 10 classes.\n",
      "Found 5400 images belonging to 10 classes.\n"
     ]
    }
   ],
   "source": [
    "from keras.preprocessing.image import ImageDataGenerator\n",
    "\n",
    "train_datagen = ImageDataGenerator(\n",
    "    rescale=1./255,\n",
    "    rotation_range=40,\n",
    "    width_shift_range=0.2,\n",
    "    height_shift_range=0.2,\n",
    "    shear_range=0.2,\n",
    "    zoom_range=0.2,\n",
    "    horizontal_flip=True,\n",
    "    fill_mode='nearest',\n",
    "    validation_split=0.2)\n",
    "\n",
    "\n",
    "train_data = train_datagen.flow_from_directory(\n",
    "    training_dir,\n",
    "    target_size=(64, 64),\n",
    "    batch_size=32,\n",
    "    class_mode='categorical',\n",
    "    subset='training'\n",
    ")\n",
    "val_data = train_datagen.flow_from_directory(\n",
    "    training_dir,\n",
    "    target_size=(64, 64),\n",
    "    batch_size=32,\n",
    "    class_mode='categorical',\n",
    "    subset='validation'\n",
    ")\n",
    "\n",
    "\n"
   ]
  },
  {
   "cell_type": "code",
   "execution_count": 11,
   "metadata": {},
   "outputs": [
    {
     "name": "stdout",
     "output_type": "stream",
     "text": [
      "{'AnnualCrop': 0, 'Forest': 1, 'HerbaceousVegetation': 2, 'Highway': 3, 'Industrial': 4, 'Pasture': 5, 'PermanentCrop': 6, 'Residential': 7, 'River': 8, 'SeaLake': 9}\n"
     ]
    }
   ],
   "source": [
    "print(train_data.class_indices)\n"
   ]
  },
  {
   "cell_type": "code",
   "execution_count": 13,
   "metadata": {},
   "outputs": [],
   "source": [
    "from tensorflow.keras.models import Sequential\n",
    "from tensorflow.keras.layers import Dense,Conv2D,MaxPooling2D,Flatten,Dropout \n"
   ]
  },
  {
   "cell_type": "code",
   "execution_count": null,
   "metadata": {},
   "outputs": [],
   "source": [
    "model = Sequential(\n",
    "    [\n",
    "        (Conv2D(32,(3,3),activation='relu',input_shape=(64,64,3))),\n",
    "        MaxPooling2D(2,2),\n",
    "        (Conv2D(64,(3,3),activation='relu')),\n",
    "        MaxPooling2D(2,2),\n",
    "        (Conv2D(128,(3,3),activation='relu')),\n",
    "        MaxPooling2D(2,2),\n",
    "        (Conv2D(128,(3,3),activation='relu')),\n",
    "        Flatten(),\n",
    "        Dense(128,activation='relu'),\n",
    "        Dropout(0.5),\n",
    "        Dense(10,activation='softmax')    #10 nodes/neurons because there are 10 classes\n",
    "    ]\n",
    ")\n",
    "model.compile(loss='categorical_crossentropy',optimizer='adam',metrics=['accuracy'])\n",
    "\n"
   ]
  },
  {
   "cell_type": "code",
   "execution_count": 20,
   "metadata": {},
   "outputs": [
    {
     "name": "stdout",
     "output_type": "stream",
     "text": [
      "Epoch 1/10\n",
      "675/675 [==============================] - 226s 334ms/step - loss: 0.9626 - accuracy: 0.6639 - val_loss: 0.8603 - val_accuracy: 0.6883\n",
      "Epoch 2/10\n",
      "675/675 [==============================] - 96s 143ms/step - loss: 0.8525 - accuracy: 0.6983 - val_loss: 0.6979 - val_accuracy: 0.7461\n",
      "Epoch 3/10\n",
      "675/675 [==============================] - 46s 69ms/step - loss: 0.7990 - accuracy: 0.7204 - val_loss: 0.7036 - val_accuracy: 0.7383\n",
      "Epoch 4/10\n",
      "675/675 [==============================] - 47s 69ms/step - loss: 0.7396 - accuracy: 0.7425 - val_loss: 0.7370 - val_accuracy: 0.7407\n",
      "Epoch 5/10\n",
      "675/675 [==============================] - 47s 70ms/step - loss: 0.7038 - accuracy: 0.7557 - val_loss: 0.5376 - val_accuracy: 0.8067\n",
      "Epoch 6/10\n",
      "675/675 [==============================] - 48s 71ms/step - loss: 0.6484 - accuracy: 0.7770 - val_loss: 0.5619 - val_accuracy: 0.7924\n",
      "Epoch 7/10\n",
      "675/675 [==============================] - 48s 72ms/step - loss: 0.6201 - accuracy: 0.7851 - val_loss: 0.5752 - val_accuracy: 0.8030\n",
      "Epoch 8/10\n",
      "675/675 [==============================] - 48s 71ms/step - loss: 0.5944 - accuracy: 0.7975 - val_loss: 0.5381 - val_accuracy: 0.8063\n",
      "Epoch 9/10\n",
      "675/675 [==============================] - 49s 73ms/step - loss: 0.5822 - accuracy: 0.8025 - val_loss: 0.5108 - val_accuracy: 0.8219\n",
      "Epoch 10/10\n",
      "675/675 [==============================] - 48s 71ms/step - loss: 0.5369 - accuracy: 0.8171 - val_loss: 0.4616 - val_accuracy: 0.8367\n"
     ]
    }
   ],
   "source": [
    "history = model.fit(train_data,epochs=10,validation_data=val_data)"
   ]
  },
  {
   "cell_type": "code",
   "execution_count": 21,
   "metadata": {},
   "outputs": [
    {
     "name": "stdout",
     "output_type": "stream",
     "text": [
      "169/169 [==============================] - 10s 58ms/step - loss: 0.4563 - accuracy: 0.8411\n"
     ]
    },
    {
     "data": {
      "text/plain": [
       "[0.45631104707717896, 0.8411111235618591]"
      ]
     },
     "execution_count": 21,
     "metadata": {},
     "output_type": "execute_result"
    }
   ],
   "source": [
    "model.evaluate(val_data)"
   ]
  },
  {
   "cell_type": "code",
   "execution_count": 26,
   "metadata": {},
   "outputs": [
    {
     "name": "stdout",
     "output_type": "stream",
     "text": [
      "1/1 [==============================] - 0s 30ms/step\n",
      "[[4.8467262e-17 1.3219718e-17 2.5804335e-05 1.1248991e-07 6.7718054e-07\n",
      "  3.0343015e-16 1.9261672e-09 9.9997342e-01 1.1477132e-12 4.0508062e-20]]\n",
      "Predicted class is:  7\n"
     ]
    }
   ],
   "source": [
    "from tensorflow.keras.preprocessing import image\n",
    "import numpy as np  \n",
    "image_path = \"resid.webp\"\n",
    "img = image.load_img(image_path,target_size=(64,64))\n",
    "img_array = image.img_to_array(img)\n",
    "img_array = np.expand_dims(img_array,axis=0)\n",
    "img_array = img_array/255.0\n",
    "predictions = model.predict(img_array)\n",
    "print(predictions)\n",
    "print(\"Predicted class is: \",np.argmax(predictions))\n",
    "\n"
   ]
  },
  {
   "cell_type": "code",
   "execution_count": null,
   "metadata": {},
   "outputs": [],
   "source": []
  }
 ],
 "metadata": {
  "kernelspec": {
   "display_name": "Python 3",
   "language": "python",
   "name": "python3"
  },
  "language_info": {
   "codemirror_mode": {
    "name": "ipython",
    "version": 3
   },
   "file_extension": ".py",
   "mimetype": "text/x-python",
   "name": "python",
   "nbconvert_exporter": "python",
   "pygments_lexer": "ipython3",
   "version": "3.11.0"
  }
 },
 "nbformat": 4,
 "nbformat_minor": 2
}
